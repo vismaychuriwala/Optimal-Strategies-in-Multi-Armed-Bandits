{
 "cells": [
  {
   "cell_type": "code",
   "execution_count": 196,
   "id": "eec09601",
   "metadata": {},
   "outputs": [],
   "source": [
    "import numpy as np\n",
    "import time\n",
    "# Students will submit their files with their team-name.py \n",
    "# Student have to use the Team as their parent class"
   ]
  },
  {
   "cell_type": "code",
   "execution_count": 197,
   "id": "8b1eac75",
   "metadata": {},
   "outputs": [],
   "source": [
    "import numpy as np \n",
    "import sys \n",
    "import numpy.random as random \n",
    "import os\n",
    "np.seterr(divide='ignore', invalid='ignore')\n",
    "def KL(p, q):\n",
    "\tif p == 1:\n",
    "\t\treturn p*np.log(p/q)\n",
    "\telif p == 0:\n",
    "\t\treturn (1-p)*np.log((1-p)/(1-q))\n",
    "\telse:\n",
    "\t\treturn p*np.log(p/q) + (1-p)*np.log((1-p)/(1-q))\n",
    "\n",
    "def solve_q(rhs, p_a):\n",
    "\tif p_a == 1:\n",
    "\t\treturn 1 \n",
    "\tq = np.arange(p_a, 1, 0.01)\n",
    "\tlhs = []\n",
    "\tfor el in q:\n",
    "\t\tlhs.append(KL(p_a, el))\n",
    "\tlhs_array = np.array(lhs)\n",
    "\tlhs_rhs = lhs_array - rhs\n",
    "\tlhs_rhs[lhs_rhs <= 0] = np.inf\n",
    "\tmin_index = lhs_rhs.argmin()\n",
    "\treturn q[min_index]\n",
    "\n",
    "\n",
    "def ucb_func(pulls, arm_rewards, time_steps, num_bandits):\n",
    "\tucb_arms = np.zeros(num_bandits, dtype=float)\n",
    "\tfor x in range(0,num_bandits):\n",
    "\t\tp_a = arm_rewards[x]/pulls[x]\n",
    "\t\trhs = (np.log(time_steps) + 3*np.log(np.log(time_steps)))/pulls[x]\n",
    "\t\tucb_arms[x] = solve_q(rhs, p_a)\n",
    "\t# print ucb_arms\n",
    "\treturn ucb_arms"
   ]
  },
  {
   "cell_type": "code",
   "execution_count": 202,
   "id": "8ad2fe16",
   "metadata": {},
   "outputs": [],
   "source": [
    "class Agent:\n",
    "  def __init__(self):\n",
    "    self.balls=0\n",
    "    self.score=0\n",
    "    self.wicketsdown=0\n",
    "    self.pulls = np.zeros(6, dtype=int)\n",
    "    self.arm_rewards = np.zeros(6, dtype=int)\n",
    "    self.ucb_arms = np.zeros(6, dtype=float)\n",
    "    self.curr_reward = 0\n",
    "    self.cum_reward=0\n",
    "\n",
    "    pass\n",
    "    \n",
    "  def get_action(self,wicket,runs_scored):\n",
    "    self.balls+=1\n",
    "    self.wicketsdown+=wicket\n",
    "    \n",
    "    if self.balls in range(7):\n",
    "        action=self.balls-1\n",
    "       \n",
    "        self.pulls[action] += 1\n",
    "        self.cum_reward += 1-wicket\n",
    "        self.arm_rewards[action] += 1-wicket\n",
    "#         print(self.arm_rewards)\n",
    "        return action\n",
    "    \n",
    "    else:\n",
    "#         print(self.pulls, self.arm_rewards, self.balls)\n",
    "        ucb_arms = ucb_func(self.pulls, self.arm_rewards, self.balls, 6)\n",
    "        max_ucb = np.amax(ucb_arms)\n",
    "        indices = np.where(ucb_arms == max_ucb)\n",
    "\n",
    "        action = np.amax(indices)\n",
    "#         self.curr_reward = rewards[curr_arm, pulls[curr_arm]]\n",
    "        self.pulls[action] += 1\n",
    "        self.cum_reward += 1-wicket\n",
    "        self.arm_rewards[action] += 1-wicket\n",
    "#     action = np.random.randint(0,6)\n",
    "#     print(self.arm_rewards,wicket)\n",
    "    return action\n"
   ]
  },
  {
   "cell_type": "code",
   "execution_count": 203,
   "id": "6421f371",
   "metadata": {},
   "outputs": [],
   "source": [
    "class Environment:\n",
    "  def __init__(self,num_balls,agent):\n",
    "    self.num_balls = num_balls\n",
    "    self.agent = agent\n",
    "    self.__run_time = 0\n",
    "    self.__total_runs = 0\n",
    "    self.__total_wickets = 0\n",
    "    self.__runs_scored = 0\n",
    "    self.__start_time = 0\n",
    "    self.__end_time = 0\n",
    "    self.__regret_w = 0\n",
    "    self.__regret_s = 0\n",
    "    self.__wicket = 0\n",
    "    self.__regret_rho = 0\n",
    "    self.__p_out =np.array([0.001,0.01,0.02,0.03,0.1,0.3])\n",
    "    self.__p_run =np.array([1,0.9,0.85,0.8,0.75,0.7])\n",
    "    self.__action_runs_map = np.array([0,1,2,3,4,6])\n",
    "    self.__s = (1-self.__p_out)*self.__p_run*self.__action_runs_map\n",
    "    self.__rho = self.__s/self.__p_out\n",
    "\n",
    "\n",
    "  def __get_action(self):\n",
    "    self.__start_time      = time. time()\n",
    "    action          = self.agent.get_action(self.__wicket,self.__runs_scored)\n",
    "    self.__end_time        = time. time()\n",
    "    self.__run_time   = self.__run_time + self.__end_time - self.__start_time\n",
    "    return action\n",
    "\n",
    "\n",
    "  def __get_outcome(self, action):\n",
    "    pout = self.__p_out[action]\n",
    "    prun= self.__p_run[action]\n",
    "    wicket = np.random.choice(2,1,p=[1-pout,pout])[0]\n",
    "    runs = 0\n",
    "    if(wicket==0):\n",
    "      runs = self.__action_runs_map[action]*np.random.choice(2,1,p=[1-prun,prun])[0]\n",
    "    return wicket, runs\n",
    "\n",
    "\n",
    "  def innings(self):\n",
    "    self.__total_runs = 0\n",
    "    self.__total_wickets = 0\n",
    "    self.__runs_scored = 0\n",
    "\n",
    "    for ball in range(self.num_balls):\n",
    "      action = self.__get_action()\n",
    "      self.__wicket, self.__runs_scored   = self.__get_outcome(action)\n",
    "      self.__total_runs     = self.__total_runs + self.__runs_scored\n",
    "      self.__total_wickets  = self.__total_wickets + self.__wicket\n",
    "      self.__regret_w       = self.__regret_w+ (self.__p_out[action]-np.min(self.__p_out))\n",
    "      self.__regret_s       = self.__regret_s+ (np.max(self.__s) - self.__s[action])\n",
    "      self.__regret_rho       = self.__regret_rho+ (np.max(self.__rho)-self.__rho[action])\n",
    "    return self.__regret_w,self.__regret_s,self.__regret_rho, self.__total_runs, self.__total_wickets, self.__run_time\n"
   ]
  },
  {
   "cell_type": "code",
   "execution_count": 204,
   "id": "b303ac17",
   "metadata": {},
   "outputs": [],
   "source": [
    "agent = Agent()\n",
    "environment = Environment(1000,agent)\n",
    "regret_w,regret_s,reger_rho,total_runs,total_wickets,run_time = environment.innings()"
   ]
  },
  {
   "cell_type": "code",
   "execution_count": 205,
   "id": "62bed654",
   "metadata": {},
   "outputs": [
    {
     "name": "stdout",
     "output_type": "stream",
     "text": [
      "2.892999999999995 2834.911000000043 83000.70000000039 108 6 0.30275559425354004\n"
     ]
    }
   ],
   "source": [
    "print(regret_w,regret_s,reger_rho,total_runs,total_wickets,run_time)"
   ]
  },
  {
   "cell_type": "code",
   "execution_count": 6,
   "id": "4bc99877",
   "metadata": {},
   "outputs": [
    {
     "data": {
      "text/plain": [
       "array([1])"
      ]
     },
     "execution_count": 6,
     "metadata": {},
     "output_type": "execute_result"
    }
   ],
   "source": [
    "np.random.choice(2,1,p=[1-0.2,0.2])"
   ]
  },
  {
   "cell_type": "code",
   "execution_count": 22,
   "id": "03ec45fe",
   "metadata": {},
   "outputs": [],
   "source": [
    "import numpy as np \n",
    "import sys \n",
    "import numpy.random as random \n",
    "import os\n",
    "np.seterr(divide='ignore', invalid='ignore')\n",
    "def KL(p, q):\n",
    "\tif p == 1:\n",
    "\t\treturn p*np.log(p/q)\n",
    "\telif p == 0:\n",
    "\t\treturn (1-p)*np.log((1-p)/(1-q))\n",
    "\telse:\n",
    "\t\treturn p*np.log(p/q) + (1-p)*np.log((1-p)/(1-q))\n",
    "\n",
    "def solve_q(rhs, p_a):\n",
    "\tif p_a == 1:\n",
    "\t\treturn 1 \n",
    "\tq = np.arange(p_a, 1, 0.01)\n",
    "\tlhs = []\n",
    "\tfor el in q:\n",
    "\t\tlhs.append(KL(p_a, el))\n",
    "\tlhs_array = np.array(lhs)\n",
    "\tlhs_rhs = lhs_array - rhs\n",
    "\tlhs_rhs[lhs_rhs <= 0] = np.inf\n",
    "\tmin_index = lhs_rhs.argmin()\n",
    "\treturn q[min_index]\n",
    "\n",
    "\n",
    "def ucb_func(pulls, arm_rewards, time_steps, num_bandits):\n",
    "\tucb_arms = np.zeros(num_bandits, dtype=float)\n",
    "\tfor x in range(0,num_bandits):\n",
    "\t\tp_a = arm_rewards[x]/pulls[x]\n",
    "\t\trhs = (np.log(time_steps) + 3*np.log(np.log(time_steps)))/pulls[x]\n",
    "\t\tucb_arms[x] = solve_q(rhs, p_a)\n",
    "\t# print ucb_arms\n",
    "\treturn ucb_arms\n",
    "\n",
    "\n",
    "\n",
    "def kl_ucb(num_bandits, bandit_probs, horizon, seed):\n",
    "\t\n",
    "\trandom.seed(seed)\n",
    "\n",
    "\trewards = np.zeros((num_bandits, horizon), dtype=int)\n",
    "\n",
    "\tfor y in range(0,num_bandits): \n",
    "\t\ts = np.random.binomial(1, bandit_probs[y], horizon)\n",
    "\t\trewards[y, :] = s \n",
    "\n",
    "\tcum_reward = 0\n",
    "\t# cum_reward_horizons = np.array([0, 0, 0, 0, 0, 0])\n",
    "\n",
    "\tcurr_arm = 0\n",
    "\tcurr_reward = 0\n",
    "\tpulls = np.zeros(num_bandits, dtype=int)\n",
    "\tarm_rewards = np.zeros(num_bandits, dtype=int)\n",
    "\tucb_arms = np.zeros(num_bandits, dtype=float)\n",
    "\n",
    "\tfor x in range(0,min(num_bandits,horizon)):\n",
    "\t\t# print x\n",
    "\t\tcurr_arm = x\n",
    "\t\tcurr_reward = rewards[curr_arm, pulls[curr_arm]]\n",
    "\t\tpulls[curr_arm] += 1\n",
    "\t\tcum_reward += curr_reward\n",
    "\t\tarm_rewards[curr_arm] += curr_reward\n",
    "\t\t\n",
    "\tif horizon > num_bandits:\n",
    "\n",
    "\t\tfor y in range(num_bandits,horizon):\n",
    "\t\t\t\n",
    "\t\t\tucb_arms = ucb_func(pulls, arm_rewards, y, num_bandits)\n",
    "\t\t\tmax_ucb = np.amax(ucb_arms)\n",
    "\t\t\tindices = np.where(ucb_arms == max_ucb)\n",
    "\t\t\t\n",
    "\t\t\tcurr_arm = np.amax(indices)\n",
    "\t\t\tcurr_reward = rewards[curr_arm, pulls[curr_arm]]\n",
    "\t\t\tpulls[curr_arm] += 1\n",
    "\t\t\tcum_reward += curr_reward\n",
    "\t\t\tarm_rewards[curr_arm] += curr_reward\n",
    "\t# print cum_reward\n",
    "\treturn cum_reward\n"
   ]
  },
  {
   "cell_type": "code",
   "execution_count": 31,
   "id": "e567de41",
   "metadata": {},
   "outputs": [
    {
     "data": {
      "text/plain": [
       "52"
      ]
     },
     "execution_count": 31,
     "metadata": {},
     "output_type": "execute_result"
    }
   ],
   "source": [
    "kl_ucb(3,[0.1,0.3,0.6],100,2)"
   ]
  },
  {
   "cell_type": "code",
   "execution_count": 15,
   "id": "0d0ad5a3",
   "metadata": {},
   "outputs": [
    {
     "data": {
      "text/plain": [
       "2.302585092994046"
      ]
     },
     "execution_count": 15,
     "metadata": {},
     "output_type": "execute_result"
    }
   ],
   "source": [
    "np.log(10)"
   ]
  },
  {
   "cell_type": "code",
   "execution_count": 68,
   "id": "eed8fdf6",
   "metadata": {},
   "outputs": [
    {
     "name": "stdout",
     "output_type": "stream",
     "text": [
      "0\n"
     ]
    }
   ],
   "source": [
    "x=4\n",
    "if x in range(5):\n",
    "    print(0)"
   ]
  },
  {
   "cell_type": "code",
   "execution_count": 87,
   "id": "9d27b8a8",
   "metadata": {},
   "outputs": [
    {
     "data": {
      "text/plain": [
       "array([0., 0., 0., 0., 0., 0.])"
      ]
     },
     "execution_count": 87,
     "metadata": {},
     "output_type": "execute_result"
    }
   ],
   "source": [
    " np.zeros(6, dtype=float)"
   ]
  },
  {
   "cell_type": "code",
   "execution_count": null,
   "id": "c14314e5",
   "metadata": {},
   "outputs": [],
   "source": []
  }
 ],
 "metadata": {
  "kernelspec": {
   "display_name": "Python 3 (ipykernel)",
   "language": "python",
   "name": "python3"
  },
  "language_info": {
   "codemirror_mode": {
    "name": "ipython",
    "version": 3
   },
   "file_extension": ".py",
   "mimetype": "text/x-python",
   "name": "python",
   "nbconvert_exporter": "python",
   "pygments_lexer": "ipython3",
   "version": "3.10.9"
  }
 },
 "nbformat": 4,
 "nbformat_minor": 5
}
